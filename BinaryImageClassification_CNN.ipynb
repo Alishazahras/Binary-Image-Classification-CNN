{
  "nbformat": 4,
  "nbformat_minor": 0,
  "metadata": {
    "colab": {
      "provenance": [],
      "gpuType": "T4"
    },
    "kernelspec": {
      "name": "python3",
      "display_name": "Python 3"
    },
    "language_info": {
      "name": "python"
    },
    "accelerator": "GPU"
  },
  "cells": [
    {
      "cell_type": "markdown",
      "source": [
        "# NAMA : Alisha Zahra Saadiya\n",
        "# NIM : 2501971742\n",
        "# KELAS : LB06"
      ],
      "metadata": {
        "id": "-Sn1hpFZwqIl"
      }
    },
    {
      "cell_type": "markdown",
      "source": [
        "## 2. You are a Machine Learning Engineer in a company that works in the global sector. Datasets are divided into two types: Data A will be used by students with odd Student IDs, and Data B will be used by students with even Student IDs. After downloading the dataset that suits you, then create a Convolutional Neural Network architecture for this Image binary classification problem with the following conditions:"
      ],
      "metadata": {
        "id": "mYxNBc42w3b2"
      }
    },
    {
      "cell_type": "markdown",
      "source": [
        "### a. Perform data augmentation if necessary and resize the image resolution to 64 x 64."
      ],
      "metadata": {
        "id": "884i0ybrw7_p"
      }
    },
    {
      "cell_type": "code",
      "execution_count": null,
      "metadata": {
        "id": "WgiS7VdrwlFu"
      },
      "outputs": [],
      "source": [
        "# Import library yang dibutuhkan\n",
        "import keras.layers as layers\n",
        "from keras.preprocessing.image import ImageDataGenerator\n",
        "from keras.models import Sequential, Model\n",
        "from keras.layers import Conv2D, MaxPooling2D, MaxPool2D\n",
        "from keras.layers import Activation, Dropout, Flatten, Dense, Convolution2D, BatchNormalization, AveragePooling2D\n",
        "from keras import backend as k\n",
        "from keras import optimizers\n",
        "import tensorflow as tf\n",
        "from tensorflow import keras\n",
        "from tensorflow.keras.preprocessing.image import ImageDataGenerator\n",
        "import numpy as np\n",
        "import matplotlib.pyplot as plt\n",
        "import zipfile"
      ]
    },
    {
      "cell_type": "code",
      "source": [
        "!unzip Data\\ B.zip"
      ],
      "metadata": {
        "colab": {
          "base_uri": "https://localhost:8080/"
        },
        "id": "HFGl_3uvyIuw",
        "outputId": "2f12c8a8-8065-474c-b162-0fef9fd9517f"
      },
      "execution_count": null,
      "outputs": [
        {
          "output_type": "stream",
          "name": "stdout",
          "text": [
            "Archive:  Data B.zip\n",
            "   creating: Data B/\n",
            "   creating: Data B/dataset/\n",
            "   creating: Data B/dataset/test/\n",
            "   creating: Data B/dataset/test/Anemone Dahlias/\n",
            "  inflating: Data B/dataset/test/Anemone Dahlias/Image_106.jpg  \n",
            "  inflating: Data B/dataset/test/Anemone Dahlias/Image_107.jpg  \n",
            "  inflating: Data B/dataset/test/Anemone Dahlias/Image_108.jpg  \n",
            "  inflating: Data B/dataset/test/Anemone Dahlias/Image_109.jpg  \n",
            "  inflating: Data B/dataset/test/Anemone Dahlias/Image_110.jpg  \n",
            "  inflating: Data B/dataset/test/Anemone Dahlias/Image_111.jpg  \n",
            "  inflating: Data B/dataset/test/Anemone Dahlias/Image_112.jpg  \n",
            "  inflating: Data B/dataset/test/Anemone Dahlias/Image_113.jpg  \n",
            "  inflating: Data B/dataset/test/Anemone Dahlias/Image_114.jpg  \n",
            "  inflating: Data B/dataset/test/Anemone Dahlias/Image_115.jpg  \n",
            "  inflating: Data B/dataset/test/Anemone Dahlias/Image_116.jpg  \n",
            " extracting: Data B/dataset/test/Anemone Dahlias/Image_117.jpg  \n",
            "  inflating: Data B/dataset/test/Anemone Dahlias/Image_118.jpg  \n",
            "  inflating: Data B/dataset/test/Anemone Dahlias/Image_119.jpg  \n",
            "  inflating: Data B/dataset/test/Anemone Dahlias/Image_120.jpg  \n",
            "  inflating: Data B/dataset/test/Anemone Dahlias/Image_121.jpg  \n",
            "  inflating: Data B/dataset/test/Anemone Dahlias/Image_122.jpg  \n",
            "  inflating: Data B/dataset/test/Anemone Dahlias/Image_123.jpg  \n",
            "  inflating: Data B/dataset/test/Anemone Dahlias/Image_124.jpg  \n",
            "  inflating: Data B/dataset/test/Anemone Dahlias/Image_125.jpg  \n",
            "   creating: Data B/dataset/test/Ball Dahlias/\n",
            " extracting: Data B/dataset/test/Ball Dahlias/Image_105.JPG  \n",
            "  inflating: Data B/dataset/test/Ball Dahlias/Image_106.jpg  \n",
            "  inflating: Data B/dataset/test/Ball Dahlias/Image_107.jpg  \n",
            "  inflating: Data B/dataset/test/Ball Dahlias/Image_108.jpg  \n",
            "  inflating: Data B/dataset/test/Ball Dahlias/Image_109.jpg  \n",
            "  inflating: Data B/dataset/test/Ball Dahlias/Image_110.jpg  \n",
            "  inflating: Data B/dataset/test/Ball Dahlias/Image_111.jpg  \n",
            "  inflating: Data B/dataset/test/Ball Dahlias/Image_112.jpg  \n",
            "  inflating: Data B/dataset/test/Ball Dahlias/Image_113.jpg  \n",
            "  inflating: Data B/dataset/test/Ball Dahlias/Image_114.jpg  \n",
            "  inflating: Data B/dataset/test/Ball Dahlias/Image_115.jpg  \n",
            "  inflating: Data B/dataset/test/Ball Dahlias/Image_116.jpg  \n",
            "  inflating: Data B/dataset/test/Ball Dahlias/Image_117.jpg  \n",
            "  inflating: Data B/dataset/test/Ball Dahlias/Image_118.jpg  \n",
            "  inflating: Data B/dataset/test/Ball Dahlias/Image_119.jpg  \n",
            " extracting: Data B/dataset/test/Ball Dahlias/Image_120.Jpg  \n",
            "  inflating: Data B/dataset/test/Ball Dahlias/Image_121.jpg  \n",
            "  inflating: Data B/dataset/test/Ball Dahlias/Image_122.jpg  \n",
            "  inflating: Data B/dataset/test/Ball Dahlias/Image_123.jpg  \n",
            "  inflating: Data B/dataset/test/Ball Dahlias/Image_124.jpg  \n",
            "  inflating: Data B/dataset/test/Ball Dahlias/Image_125.jpg  \n",
            "   creating: Data B/dataset/train/\n",
            "   creating: Data B/dataset/train/Anemone Dahlias/\n",
            "  inflating: Data B/dataset/train/Anemone Dahlias/Image_100.jpg  \n",
            "  inflating: Data B/dataset/train/Anemone Dahlias/Image_101.jpg  \n",
            "  inflating: Data B/dataset/train/Anemone Dahlias/Image_102.jpg  \n",
            "  inflating: Data B/dataset/train/Anemone Dahlias/Image_103.jpg  \n",
            "  inflating: Data B/dataset/train/Anemone Dahlias/Image_104.jpg  \n",
            "  inflating: Data B/dataset/train/Anemone Dahlias/Image_105.jpg  \n",
            "  inflating: Data B/dataset/train/Anemone Dahlias/Image_21.jpg  \n",
            "  inflating: Data B/dataset/train/Anemone Dahlias/Image_22.jpg  \n",
            "  inflating: Data B/dataset/train/Anemone Dahlias/Image_23.jpg  \n",
            "  inflating: Data B/dataset/train/Anemone Dahlias/Image_24.jpg  \n",
            "  inflating: Data B/dataset/train/Anemone Dahlias/Image_25.jpg  \n",
            "  inflating: Data B/dataset/train/Anemone Dahlias/Image_26.jpg  \n",
            " extracting: Data B/dataset/train/Anemone Dahlias/Image_27.jpg  \n",
            " extracting: Data B/dataset/train/Anemone Dahlias/Image_28.png  \n",
            "  inflating: Data B/dataset/train/Anemone Dahlias/Image_29.jpg  \n",
            "  inflating: Data B/dataset/train/Anemone Dahlias/Image_31.jpg  \n",
            "  inflating: Data B/dataset/train/Anemone Dahlias/Image_32.jpg  \n",
            "  inflating: Data B/dataset/train/Anemone Dahlias/Image_33.jpg  \n",
            "  inflating: Data B/dataset/train/Anemone Dahlias/Image_34.jpg  \n",
            "  inflating: Data B/dataset/train/Anemone Dahlias/Image_35.jpg  \n",
            "  inflating: Data B/dataset/train/Anemone Dahlias/Image_36.jpg  \n",
            "  inflating: Data B/dataset/train/Anemone Dahlias/Image_37.jpg  \n",
            "  inflating: Data B/dataset/train/Anemone Dahlias/Image_38.jpg  \n",
            "  inflating: Data B/dataset/train/Anemone Dahlias/Image_39.jpeg  \n",
            "  inflating: Data B/dataset/train/Anemone Dahlias/Image_40.jpg  \n",
            " extracting: Data B/dataset/train/Anemone Dahlias/Image_41.jpg  \n",
            "  inflating: Data B/dataset/train/Anemone Dahlias/Image_42.jpg  \n",
            "  inflating: Data B/dataset/train/Anemone Dahlias/Image_43.jpg  \n",
            "  inflating: Data B/dataset/train/Anemone Dahlias/Image_44.jpg  \n",
            "  inflating: Data B/dataset/train/Anemone Dahlias/Image_45.jpg  \n",
            "  inflating: Data B/dataset/train/Anemone Dahlias/Image_46.jpg  \n",
            " extracting: Data B/dataset/train/Anemone Dahlias/Image_47.jpg  \n",
            "  inflating: Data B/dataset/train/Anemone Dahlias/Image_48.jpg  \n",
            "  inflating: Data B/dataset/train/Anemone Dahlias/Image_49.jpg  \n",
            "  inflating: Data B/dataset/train/Anemone Dahlias/Image_50.jpg  \n",
            "  inflating: Data B/dataset/train/Anemone Dahlias/Image_51.jpg  \n",
            "  inflating: Data B/dataset/train/Anemone Dahlias/Image_52.jpg  \n",
            "  inflating: Data B/dataset/train/Anemone Dahlias/Image_53.jpg  \n",
            " extracting: Data B/dataset/train/Anemone Dahlias/Image_54.jpg  \n",
            "  inflating: Data B/dataset/train/Anemone Dahlias/Image_55.jpg  \n",
            "  inflating: Data B/dataset/train/Anemone Dahlias/Image_56.jpg  \n",
            "  inflating: Data B/dataset/train/Anemone Dahlias/Image_57.jpg  \n",
            "  inflating: Data B/dataset/train/Anemone Dahlias/Image_58.jpg  \n",
            "  inflating: Data B/dataset/train/Anemone Dahlias/Image_59.jpg  \n",
            " extracting: Data B/dataset/train/Anemone Dahlias/Image_60.jpg  \n",
            " extracting: Data B/dataset/train/Anemone Dahlias/Image_61.jpg  \n",
            "  inflating: Data B/dataset/train/Anemone Dahlias/Image_62.jpg  \n",
            "  inflating: Data B/dataset/train/Anemone Dahlias/Image_63.jpg  \n",
            "  inflating: Data B/dataset/train/Anemone Dahlias/Image_64.jpeg  \n",
            "  inflating: Data B/dataset/train/Anemone Dahlias/Image_65.jpg  \n",
            "  inflating: Data B/dataset/train/Anemone Dahlias/Image_66.jpg  \n",
            " extracting: Data B/dataset/train/Anemone Dahlias/Image_67.png  \n",
            "  inflating: Data B/dataset/train/Anemone Dahlias/Image_68.jpg  \n",
            " extracting: Data B/dataset/train/Anemone Dahlias/Image_69.jpeg  \n",
            " extracting: Data B/dataset/train/Anemone Dahlias/Image_70.jpg  \n",
            " extracting: Data B/dataset/train/Anemone Dahlias/Image_71.jpg  \n",
            "  inflating: Data B/dataset/train/Anemone Dahlias/Image_72.jpg  \n",
            " extracting: Data B/dataset/train/Anemone Dahlias/Image_73.jpg  \n",
            "  inflating: Data B/dataset/train/Anemone Dahlias/Image_74.jpg  \n",
            " extracting: Data B/dataset/train/Anemone Dahlias/Image_75.jpg  \n",
            " extracting: Data B/dataset/train/Anemone Dahlias/Image_76.jpg  \n",
            "  inflating: Data B/dataset/train/Anemone Dahlias/Image_77.jpg  \n",
            "  inflating: Data B/dataset/train/Anemone Dahlias/Image_78.jpg  \n",
            "  inflating: Data B/dataset/train/Anemone Dahlias/Image_79.jpg  \n",
            "  inflating: Data B/dataset/train/Anemone Dahlias/Image_80.jpg  \n",
            "  inflating: Data B/dataset/train/Anemone Dahlias/Image_81.jpg  \n",
            "  inflating: Data B/dataset/train/Anemone Dahlias/Image_82.jpg  \n",
            "  inflating: Data B/dataset/train/Anemone Dahlias/Image_83.jpg  \n",
            "  inflating: Data B/dataset/train/Anemone Dahlias/Image_84.jpg  \n",
            "  inflating: Data B/dataset/train/Anemone Dahlias/Image_85.jpg  \n",
            "  inflating: Data B/dataset/train/Anemone Dahlias/Image_86.jpg  \n",
            "  inflating: Data B/dataset/train/Anemone Dahlias/Image_87.jpg  \n",
            "  inflating: Data B/dataset/train/Anemone Dahlias/Image_88.jpg  \n",
            " extracting: Data B/dataset/train/Anemone Dahlias/Image_89.png  \n",
            "  inflating: Data B/dataset/train/Anemone Dahlias/Image_90.jpg  \n",
            "  inflating: Data B/dataset/train/Anemone Dahlias/Image_91.jpg  \n",
            "  inflating: Data B/dataset/train/Anemone Dahlias/Image_92.jpg  \n",
            "  inflating: Data B/dataset/train/Anemone Dahlias/Image_93.jpg  \n",
            "  inflating: Data B/dataset/train/Anemone Dahlias/Image_94.jpg  \n",
            "  inflating: Data B/dataset/train/Anemone Dahlias/Image_95.jpg  \n",
            "  inflating: Data B/dataset/train/Anemone Dahlias/Image_96.jpg  \n",
            "  inflating: Data B/dataset/train/Anemone Dahlias/Image_97.jpg  \n",
            "  inflating: Data B/dataset/train/Anemone Dahlias/Image_98.jpg  \n",
            "  inflating: Data B/dataset/train/Anemone Dahlias/Image_99.jpg  \n",
            "   creating: Data B/dataset/train/Ball Dahlias/\n",
            " extracting: Data B/dataset/train/Ball Dahlias/Image_100.jpg  \n",
            "  inflating: Data B/dataset/train/Ball Dahlias/Image_101.jpg  \n",
            "  inflating: Data B/dataset/train/Ball Dahlias/Image_102.jpeg  \n",
            "  inflating: Data B/dataset/train/Ball Dahlias/Image_103.jpg  \n",
            " extracting: Data B/dataset/train/Ball Dahlias/Image_104.jpg  \n",
            "  inflating: Data B/dataset/train/Ball Dahlias/Image_21.jpg  \n",
            "  inflating: Data B/dataset/train/Ball Dahlias/Image_22.jpg  \n",
            " extracting: Data B/dataset/train/Ball Dahlias/Image_23.png  \n",
            "  inflating: Data B/dataset/train/Ball Dahlias/Image_24.jpg  \n",
            "  inflating: Data B/dataset/train/Ball Dahlias/Image_25.jpg  \n",
            "  inflating: Data B/dataset/train/Ball Dahlias/Image_26.jpg  \n",
            "  inflating: Data B/dataset/train/Ball Dahlias/Image_27.jpg  \n",
            "  inflating: Data B/dataset/train/Ball Dahlias/Image_28.jpg  \n",
            "  inflating: Data B/dataset/train/Ball Dahlias/Image_29.jpg  \n",
            "  inflating: Data B/dataset/train/Ball Dahlias/Image_30.jpg  \n",
            "  inflating: Data B/dataset/train/Ball Dahlias/Image_31.jpg  \n",
            "  inflating: Data B/dataset/train/Ball Dahlias/Image_32.jpg  \n",
            "  inflating: Data B/dataset/train/Ball Dahlias/Image_33.jpg  \n",
            " extracting: Data B/dataset/train/Ball Dahlias/Image_34.jpg  \n",
            "  inflating: Data B/dataset/train/Ball Dahlias/Image_35.jpeg  \n",
            "  inflating: Data B/dataset/train/Ball Dahlias/Image_36.jpg  \n",
            "  inflating: Data B/dataset/train/Ball Dahlias/Image_37.jpg  \n",
            "  inflating: Data B/dataset/train/Ball Dahlias/Image_38.jpg  \n",
            "  inflating: Data B/dataset/train/Ball Dahlias/Image_39.jpg  \n",
            "  inflating: Data B/dataset/train/Ball Dahlias/Image_40.jpg  \n",
            "  inflating: Data B/dataset/train/Ball Dahlias/Image_41.jpg  \n",
            "  inflating: Data B/dataset/train/Ball Dahlias/Image_42.jpg  \n",
            "  inflating: Data B/dataset/train/Ball Dahlias/Image_43.jpg  \n",
            "  inflating: Data B/dataset/train/Ball Dahlias/Image_44.jpg  \n",
            "  inflating: Data B/dataset/train/Ball Dahlias/Image_45.jpg  \n",
            "  inflating: Data B/dataset/train/Ball Dahlias/Image_46.JPG  \n",
            "  inflating: Data B/dataset/train/Ball Dahlias/Image_47.jpg  \n",
            "  inflating: Data B/dataset/train/Ball Dahlias/Image_48.jpg  \n",
            "  inflating: Data B/dataset/train/Ball Dahlias/Image_49.jpg  \n",
            "  inflating: Data B/dataset/train/Ball Dahlias/Image_50.JPG  \n",
            "  inflating: Data B/dataset/train/Ball Dahlias/Image_51.jpg  \n",
            "  inflating: Data B/dataset/train/Ball Dahlias/Image_52.jpg  \n",
            " extracting: Data B/dataset/train/Ball Dahlias/Image_53.jpg  \n",
            "  inflating: Data B/dataset/train/Ball Dahlias/Image_54.jpg  \n",
            "  inflating: Data B/dataset/train/Ball Dahlias/Image_55.jpg  \n",
            "  inflating: Data B/dataset/train/Ball Dahlias/Image_56.jpg  \n",
            "  inflating: Data B/dataset/train/Ball Dahlias/Image_57.jpg  \n",
            "  inflating: Data B/dataset/train/Ball Dahlias/Image_58.jpg  \n",
            "  inflating: Data B/dataset/train/Ball Dahlias/Image_59.jpg  \n",
            "  inflating: Data B/dataset/train/Ball Dahlias/Image_60.jpg  \n",
            "  inflating: Data B/dataset/train/Ball Dahlias/Image_61.JPG  \n",
            "  inflating: Data B/dataset/train/Ball Dahlias/Image_62.jpg  \n",
            "  inflating: Data B/dataset/train/Ball Dahlias/Image_63.jpg  \n",
            "  inflating: Data B/dataset/train/Ball Dahlias/Image_64.jpg  \n",
            "  inflating: Data B/dataset/train/Ball Dahlias/Image_65.jpg  \n",
            "  inflating: Data B/dataset/train/Ball Dahlias/Image_66.jpg  \n",
            "  inflating: Data B/dataset/train/Ball Dahlias/Image_67.jpg  \n",
            "  inflating: Data B/dataset/train/Ball Dahlias/Image_68.jpg  \n",
            "  inflating: Data B/dataset/train/Ball Dahlias/Image_69.jpg  \n",
            "  inflating: Data B/dataset/train/Ball Dahlias/Image_70.jpg  \n",
            "  inflating: Data B/dataset/train/Ball Dahlias/Image_71.jpg  \n",
            "  inflating: Data B/dataset/train/Ball Dahlias/Image_72.jpg  \n",
            "  inflating: Data B/dataset/train/Ball Dahlias/Image_73.jpg  \n",
            "  inflating: Data B/dataset/train/Ball Dahlias/Image_74.jpg  \n",
            "  inflating: Data B/dataset/train/Ball Dahlias/Image_75.jpg  \n",
            "  inflating: Data B/dataset/train/Ball Dahlias/Image_76.jpg  \n",
            "  inflating: Data B/dataset/train/Ball Dahlias/Image_77.jpg  \n",
            "  inflating: Data B/dataset/train/Ball Dahlias/Image_78.jpg  \n",
            "  inflating: Data B/dataset/train/Ball Dahlias/Image_79.jpg  \n",
            "  inflating: Data B/dataset/train/Ball Dahlias/Image_80.jpeg  \n",
            "  inflating: Data B/dataset/train/Ball Dahlias/Image_81.jpg  \n",
            "  inflating: Data B/dataset/train/Ball Dahlias/Image_82.jpg  \n",
            "  inflating: Data B/dataset/train/Ball Dahlias/Image_83.jpg  \n",
            "  inflating: Data B/dataset/train/Ball Dahlias/Image_84.jpg  \n",
            "  inflating: Data B/dataset/train/Ball Dahlias/Image_85.JPG  \n",
            "  inflating: Data B/dataset/train/Ball Dahlias/Image_86.jpg  \n",
            "  inflating: Data B/dataset/train/Ball Dahlias/Image_87.jpg  \n",
            "  inflating: Data B/dataset/train/Ball Dahlias/Image_88.jpg  \n",
            "  inflating: Data B/dataset/train/Ball Dahlias/Image_89.jpg  \n",
            "  inflating: Data B/dataset/train/Ball Dahlias/Image_90.jpg  \n",
            "  inflating: Data B/dataset/train/Ball Dahlias/Image_91.jpeg  \n",
            "  inflating: Data B/dataset/train/Ball Dahlias/Image_92.jpg  \n",
            "  inflating: Data B/dataset/train/Ball Dahlias/Image_93.jpg  \n",
            "  inflating: Data B/dataset/train/Ball Dahlias/Image_94.jpg  \n",
            "  inflating: Data B/dataset/train/Ball Dahlias/Image_95.jpg  \n",
            " extracting: Data B/dataset/train/Ball Dahlias/Image_96.jpeg  \n",
            "  inflating: Data B/dataset/train/Ball Dahlias/Image_97.jpeg  \n",
            "  inflating: Data B/dataset/train/Ball Dahlias/Image_98.jpg  \n",
            "  inflating: Data B/dataset/train/Ball Dahlias/Image_99.jpg  \n",
            "   creating: Data B/dataset/val/\n",
            "   creating: Data B/dataset/val/Anemone Dahlias/\n",
            "  inflating: Data B/dataset/val/Anemone Dahlias/Image_1.jpg  \n",
            "  inflating: Data B/dataset/val/Anemone Dahlias/Image_10.jpg  \n",
            "  inflating: Data B/dataset/val/Anemone Dahlias/Image_11.jpg  \n",
            "  inflating: Data B/dataset/val/Anemone Dahlias/Image_12.jpg  \n",
            "  inflating: Data B/dataset/val/Anemone Dahlias/Image_13.jpg  \n",
            "  inflating: Data B/dataset/val/Anemone Dahlias/Image_14.jpg  \n",
            " extracting: Data B/dataset/val/Anemone Dahlias/Image_15.jpeg  \n",
            "  inflating: Data B/dataset/val/Anemone Dahlias/Image_16.jpg  \n",
            "  inflating: Data B/dataset/val/Anemone Dahlias/Image_17.jpg  \n",
            "  inflating: Data B/dataset/val/Anemone Dahlias/Image_18.jpg  \n",
            "  inflating: Data B/dataset/val/Anemone Dahlias/Image_19.jpg  \n",
            "  inflating: Data B/dataset/val/Anemone Dahlias/Image_2.jpg  \n",
            "  inflating: Data B/dataset/val/Anemone Dahlias/Image_20.jpg  \n",
            " extracting: Data B/dataset/val/Anemone Dahlias/Image_3.jpg  \n",
            "  inflating: Data B/dataset/val/Anemone Dahlias/Image_4.jpg  \n",
            "  inflating: Data B/dataset/val/Anemone Dahlias/Image_5.jpg  \n",
            "  inflating: Data B/dataset/val/Anemone Dahlias/Image_6.jpg  \n",
            "  inflating: Data B/dataset/val/Anemone Dahlias/Image_7.jpg  \n",
            "  inflating: Data B/dataset/val/Anemone Dahlias/Image_8.jpg  \n",
            "  inflating: Data B/dataset/val/Anemone Dahlias/Image_9.jpg  \n",
            "   creating: Data B/dataset/val/Ball Dahlias/\n",
            " extracting: Data B/dataset/val/Ball Dahlias/Image_1.jpg  \n",
            "  inflating: Data B/dataset/val/Ball Dahlias/Image_10.jpg  \n",
            "  inflating: Data B/dataset/val/Ball Dahlias/Image_11.jpg  \n",
            "  inflating: Data B/dataset/val/Ball Dahlias/Image_12.jpg  \n",
            " extracting: Data B/dataset/val/Ball Dahlias/Image_13.png  \n",
            "  inflating: Data B/dataset/val/Ball Dahlias/Image_14.jpg  \n",
            "  inflating: Data B/dataset/val/Ball Dahlias/Image_15.jpg  \n",
            "  inflating: Data B/dataset/val/Ball Dahlias/Image_16.jpg  \n",
            " extracting: Data B/dataset/val/Ball Dahlias/Image_17.JPG  \n",
            "  inflating: Data B/dataset/val/Ball Dahlias/Image_18.jpg  \n",
            "  inflating: Data B/dataset/val/Ball Dahlias/Image_19.jpg  \n",
            " extracting: Data B/dataset/val/Ball Dahlias/Image_2.jpg  \n",
            "  inflating: Data B/dataset/val/Ball Dahlias/Image_20.jpg  \n",
            " extracting: Data B/dataset/val/Ball Dahlias/Image_3.jpg  \n",
            "  inflating: Data B/dataset/val/Ball Dahlias/Image_4.jpg  \n",
            "  inflating: Data B/dataset/val/Ball Dahlias/Image_5.jpg  \n",
            "  inflating: Data B/dataset/val/Ball Dahlias/Image_6.jpg  \n",
            "  inflating: Data B/dataset/val/Ball Dahlias/Image_7.jpeg  \n",
            "  inflating: Data B/dataset/val/Ball Dahlias/Image_8.jpg  \n",
            "  inflating: Data B/dataset/val/Ball Dahlias/Image_9.jpg  \n"
          ]
        }
      ]
    },
    {
      "cell_type": "code",
      "source": [
        "# Memuat data training dan testing\n",
        "train = '/content/Data B/dataset/train'\n",
        "test = '/content/Data B/dataset/test'\n",
        "val = '/content/Data B/dataset/val'"
      ],
      "metadata": {
        "id": "JT5Ut07O61BE"
      },
      "execution_count": null,
      "outputs": []
    },
    {
      "cell_type": "code",
      "source": [
        "model = Sequential()\n",
        "model.add(Conv2D(96, kernel_size=(11, 11), strides=(4, 4), activation='relu', input_shape=(224,224,3)))\n",
        "\n",
        "model.add(MaxPooling2D(pool_size=(3, 3), strides=(2, 2)))\n",
        "\n",
        "model.add(Conv2D(256, kernel_size=(5, 5), activation='relu', padding='valid'))\n",
        "\n",
        "model.add(MaxPooling2D(pool_size=(3, 3), strides=(2, 2)))\n",
        "\n",
        "model.add(Conv2D(384, kernel_size=(3, 3), activation='relu', padding='same'))\n",
        "\n",
        "model.add(Conv2D(384, kernel_size=(3, 3), activation='relu', padding='same'))\n",
        "\n",
        "model.add(Conv2D(256, kernel_size=(3, 3), activation='relu', padding='same'))\n",
        "\n",
        "model.add(MaxPooling2D(pool_size=(3, 3), strides=(2, 2)))\n",
        "\n",
        "model.add(Flatten())\n",
        "\n",
        "model.add(Dense(4096, activation='relu'))\n",
        "\n",
        "model.add(Dense(4096, activation='relu'))\n",
        "\n",
        "model.add(Dense(2, activation='softmax'))"
      ],
      "metadata": {
        "id": "hkC8ZTiX7LwR"
      },
      "execution_count": null,
      "outputs": []
    },
    {
      "cell_type": "code",
      "source": [
        "train_datagen = ImageDataGenerator(\n",
        "    rescale = 1./255,\n",
        "    rotation_range=40,\n",
        "    horizontal_flip=True,\n",
        "    zoom_range=0.2\n",
        ")\n",
        "\n",
        "val_datagen = ImageDataGenerator(\n",
        "    rescale= 1./255\n",
        ")\n",
        "\n",
        "test_datagen = ImageDataGenerator(\n",
        "    rescale= 1./255\n",
        ")"
      ],
      "metadata": {
        "id": "HNfoOSemBPDt"
      },
      "execution_count": null,
      "outputs": []
    },
    {
      "cell_type": "markdown",
      "source": [
        "### b. Make the baseline architecture according to Figure 1 below: (Note: Activation function for each hidden layer using ReLU, last layer using softmax). Display validation loss and training loss graphs. Explain whether the model is overfit, underfit or just-right model?"
      ],
      "metadata": {
        "id": "5BhE7Ubu_2hU"
      }
    },
    {
      "cell_type": "code",
      "source": [
        "batch_size = 36\n",
        "image_height, image_width = 224, 224"
      ],
      "metadata": {
        "id": "3yUi1slZA_9R"
      },
      "execution_count": null,
      "outputs": []
    },
    {
      "cell_type": "code",
      "source": [
        "train_generator = train_datagen.flow_from_directory(\n",
        "    train,\n",
        "    target_size = (image_height, image_width),\n",
        "    batch_size = batch_size,\n",
        "    class_mode = \"categorical\"\n",
        ")\n",
        "test_generator = test_datagen.flow_from_directory(\n",
        "    test,\n",
        "    target_size = (image_height, image_width),\n",
        "    batch_size = batch_size,\n",
        "    class_mode = \"categorical\"\n",
        ")\n",
        "val_generator = val_datagen.flow_from_directory(\n",
        "    val,\n",
        "    target_size = (image_height, image_width),\n",
        "    batch_size = batch_size,\n",
        "    class_mode = \"categorical\"\n",
        ")"
      ],
      "metadata": {
        "colab": {
          "base_uri": "https://localhost:8080/"
        },
        "id": "u9a3KNtEAkF_",
        "outputId": "ffffa943-a2a6-47c9-82e0-d4304c7d1dd7"
      },
      "execution_count": null,
      "outputs": [
        {
          "output_type": "stream",
          "name": "stdout",
          "text": [
            "Found 168 images belonging to 2 classes.\n",
            "Found 41 images belonging to 2 classes.\n",
            "Found 40 images belonging to 2 classes.\n"
          ]
        }
      ]
    },
    {
      "cell_type": "code",
      "source": [
        "model.compile(loss = 'categorical_crossentropy',\n",
        "              optimizer= tf.keras.optimizers.Adam(learning_rate=0.001),\n",
        "              metrics= [\"accuracy\"]\n",
        "             )"
      ],
      "metadata": {
        "id": "hZ8fBgH3_qdf"
      },
      "execution_count": null,
      "outputs": []
    },
    {
      "cell_type": "code",
      "source": [
        "model.summary()"
      ],
      "metadata": {
        "colab": {
          "base_uri": "https://localhost:8080/"
        },
        "id": "RsYKHFLoJFxY",
        "outputId": "1e26d99d-ac05-45ca-8474-5d5b8d9467e3"
      },
      "execution_count": null,
      "outputs": [
        {
          "output_type": "stream",
          "name": "stdout",
          "text": [
            "Model: \"sequential_4\"\n",
            "_________________________________________________________________\n",
            " Layer (type)                Output Shape              Param #   \n",
            "=================================================================\n",
            " conv2d_10 (Conv2D)          (None, 54, 54, 96)        34944     \n",
            "                                                                 \n",
            " max_pooling2d_4 (MaxPoolin  (None, 26, 26, 96)        0         \n",
            " g2D)                                                            \n",
            "                                                                 \n",
            " conv2d_11 (Conv2D)          (None, 22, 22, 256)       614656    \n",
            "                                                                 \n",
            " max_pooling2d_5 (MaxPoolin  (None, 10, 10, 256)       0         \n",
            " g2D)                                                            \n",
            "                                                                 \n",
            " conv2d_12 (Conv2D)          (None, 10, 10, 384)       885120    \n",
            "                                                                 \n",
            " conv2d_13 (Conv2D)          (None, 10, 10, 384)       1327488   \n",
            "                                                                 \n",
            " conv2d_14 (Conv2D)          (None, 10, 10, 256)       884992    \n",
            "                                                                 \n",
            " max_pooling2d_6 (MaxPoolin  (None, 4, 4, 256)         0         \n",
            " g2D)                                                            \n",
            "                                                                 \n",
            " flatten (Flatten)           (None, 4096)              0         \n",
            "                                                                 \n",
            " dense (Dense)               (None, 4096)              16781312  \n",
            "                                                                 \n",
            " dense_1 (Dense)             (None, 4096)              16781312  \n",
            "                                                                 \n",
            " dense_2 (Dense)             (None, 2)                 8194      \n",
            "                                                                 \n",
            "=================================================================\n",
            "Total params: 37318018 (142.36 MB)\n",
            "Trainable params: 37318018 (142.36 MB)\n",
            "Non-trainable params: 0 (0.00 Byte)\n",
            "_________________________________________________________________\n"
          ]
        }
      ]
    },
    {
      "cell_type": "code",
      "source": [
        "history = model.fit(\n",
        "    train_generator,\n",
        "    steps_per_epoch=train_generator.samples // batch_size,\n",
        "    epochs = 20,\n",
        "    validation_data=val_generator,\n",
        "    validation_steps=val_generator.samples // batch_size\n",
        ")"
      ],
      "metadata": {
        "colab": {
          "base_uri": "https://localhost:8080/"
        },
        "id": "YQqqg4OgJIcT",
        "outputId": "c9c969bb-99ed-452f-a337-1dac2a1ffdee"
      },
      "execution_count": null,
      "outputs": [
        {
          "output_type": "stream",
          "name": "stdout",
          "text": [
            "Epoch 1/20\n",
            "5/5 [==============================] - 26s 4s/step - loss: 0.7140 - accuracy: 0.4191 - val_loss: 0.6945 - val_accuracy: 0.5312\n",
            "Epoch 2/20\n",
            "5/5 [==============================] - 23s 4s/step - loss: 0.7064 - accuracy: 0.4853 - val_loss: 0.6921 - val_accuracy: 0.5000\n",
            "Epoch 3/20\n",
            "5/5 [==============================] - 22s 4s/step - loss: 0.6896 - accuracy: 0.5515 - val_loss: 0.7000 - val_accuracy: 0.4688\n",
            "Epoch 4/20\n",
            "5/5 [==============================] - 20s 4s/step - loss: 0.6986 - accuracy: 0.5147 - val_loss: 0.6909 - val_accuracy: 0.5312\n",
            "Epoch 5/20\n",
            "5/5 [==============================] - 22s 4s/step - loss: 0.6936 - accuracy: 0.5882 - val_loss: 0.6920 - val_accuracy: 0.5625\n",
            "Epoch 6/20\n",
            "5/5 [==============================] - 24s 5s/step - loss: 0.6927 - accuracy: 0.4938 - val_loss: 0.6924 - val_accuracy: 0.5312\n",
            "Epoch 7/20\n",
            "5/5 [==============================] - 24s 5s/step - loss: 0.6923 - accuracy: 0.5000 - val_loss: 0.6928 - val_accuracy: 0.4375\n",
            "Epoch 8/20\n",
            "5/5 [==============================] - 23s 5s/step - loss: 0.6900 - accuracy: 0.6187 - val_loss: 0.6884 - val_accuracy: 0.5625\n",
            "Epoch 9/20\n",
            "5/5 [==============================] - 21s 4s/step - loss: 0.6879 - accuracy: 0.5368 - val_loss: 0.7076 - val_accuracy: 0.5312\n",
            "Epoch 10/20\n",
            "5/5 [==============================] - 24s 5s/step - loss: 0.6763 - accuracy: 0.5441 - val_loss: 0.6866 - val_accuracy: 0.5312\n",
            "Epoch 11/20\n",
            "5/5 [==============================] - 25s 5s/step - loss: 0.6627 - accuracy: 0.5813 - val_loss: 0.6780 - val_accuracy: 0.5312\n",
            "Epoch 12/20\n",
            "5/5 [==============================] - 23s 5s/step - loss: 0.7294 - accuracy: 0.5074 - val_loss: 0.6670 - val_accuracy: 0.5312\n",
            "Epoch 13/20\n",
            "5/5 [==============================] - 25s 5s/step - loss: 0.6864 - accuracy: 0.4875 - val_loss: 0.6661 - val_accuracy: 0.5312\n",
            "Epoch 14/20\n",
            "5/5 [==============================] - 21s 4s/step - loss: 0.6713 - accuracy: 0.5515 - val_loss: 0.6510 - val_accuracy: 0.5000\n",
            "Epoch 15/20\n",
            "5/5 [==============================] - 22s 4s/step - loss: 0.6562 - accuracy: 0.5735 - val_loss: 0.6437 - val_accuracy: 0.5938\n",
            "Epoch 16/20\n",
            "5/5 [==============================] - 21s 4s/step - loss: 0.6452 - accuracy: 0.6250 - val_loss: 0.5268 - val_accuracy: 0.7188\n",
            "Epoch 17/20\n",
            "5/5 [==============================] - 22s 4s/step - loss: 0.6263 - accuracy: 0.6397 - val_loss: 0.5642 - val_accuracy: 0.6875\n",
            "Epoch 18/20\n",
            "5/5 [==============================] - 23s 5s/step - loss: 0.6007 - accuracy: 0.6500 - val_loss: 0.5051 - val_accuracy: 0.7812\n",
            "Epoch 19/20\n",
            "5/5 [==============================] - 24s 4s/step - loss: 0.5517 - accuracy: 0.7063 - val_loss: 0.5682 - val_accuracy: 0.7500\n",
            "Epoch 20/20\n",
            "5/5 [==============================] - 22s 4s/step - loss: 0.6037 - accuracy: 0.6838 - val_loss: 0.5204 - val_accuracy: 0.7500\n"
          ]
        }
      ]
    },
    {
      "cell_type": "code",
      "source": [
        "plt.plot(history.history['val_loss'])\n",
        "plt.plot(history.history['loss'])\n",
        "plt.title('Model Loss')\n",
        "plt.ylabel('Loss')\n",
        "plt.xlabel('Epoch')\n",
        "plt.legend(['Validation Loss', 'Training Loss'], loc='upper right')\n",
        "plt.show()"
      ],
      "metadata": {
        "colab": {
          "base_uri": "https://localhost:8080/",
          "height": 472
        },
        "id": "LJo21NiKJ8mQ",
        "outputId": "8d0af06a-d257-4188-c3c8-218d2fdc0d24"
      },
      "execution_count": null,
      "outputs": [
        {
          "output_type": "display_data",
          "data": {
            "text/plain": [
              "<Figure size 640x480 with 1 Axes>"
            ],
            "image/png": "[encoded data removed]"
          },
          "metadata": {}
        }
      ]
    },
    {
      "cell_type": "code",
      "source": [
        "from google.colab import drive\n",
        "drive.mount('/content/drive')"
      ],
      "metadata": {
        "colab": {
          "base_uri": "https://localhost:8080/"
        },
        "id": "z5rXIj-NOWKC",
        "outputId": "1221a609-f070-44df-a006-03cd96e9a43e"
      },
      "execution_count": null,
      "outputs": [
        {
          "output_type": "stream",
          "name": "stdout",
          "text": [
            "Mounted at /content/drive\n"
          ]
        }
      ]
    },
    {
      "cell_type": "code",
      "source": [
        "path_to_zip_file = '/content/drive/My Drive/Data B edit'"
      ],
      "metadata": {
        "id": "M_wxfvwvOgSQ"
      },
      "execution_count": null,
      "outputs": []
    },
    {
      "cell_type": "code",
      "source": [
        "# Memuat data training dan testing\n",
        "train_df = '/content/drive/MyDrive/Data B edit/Data B/dataset/train'\n",
        "test_df = '/content/drive/MyDrive/Data B edit/Data B/dataset/test'\n",
        "val_df = '/content/drive/MyDrive/Data B edit/Data B/dataset/val'"
      ],
      "metadata": {
        "id": "n0eL9r_NGbqf"
      },
      "execution_count": null,
      "outputs": []
    },
    {
      "cell_type": "code",
      "source": [
        "model_df = Sequential()\n",
        "model_df.add(Conv2D(96, kernel_size=(11, 11), strides=(4, 4), activation='relu', input_shape=(224,224,3)))\n",
        "\n",
        "model_df.add(MaxPooling2D(pool_size=(3, 3), strides=(2, 2)))\n",
        "\n",
        "model_df.add(Conv2D(256, kernel_size=(5, 5), activation='relu', padding='same'))\n",
        "\n",
        "model_df.add(MaxPooling2D(pool_size=(3, 3), strides=(2, 2)))\n",
        "\n",
        "model_df.add(Conv2D(384, kernel_size=(3, 3), activation='relu', padding='same'))\n",
        "\n",
        "model_df.add(Conv2D(384, kernel_size=(3, 3), activation='relu', padding='same'))\n",
        "\n",
        "model_df.add(Conv2D(256, kernel_size=(3, 3), activation='relu', padding='same'))\n",
        "\n",
        "model_df.add(MaxPooling2D(pool_size=(3, 3), strides=(2, 2)))\n",
        "\n",
        "model_df.add(Flatten())\n",
        "\n",
        "model_df.add(Dense(4096, activation='relu'))\n",
        "\n",
        "model_df.add(Dense(4096, activation='relu'))\n",
        "\n",
        "model_df.add(Dense(2, activation='softmax'))"
      ],
      "metadata": {
        "id": "X6KiX8qoGsKS"
      },
      "execution_count": null,
      "outputs": []
    },
    {
      "cell_type": "code",
      "source": [
        "train_datagen = ImageDataGenerator(\n",
        "    rescale = 1./255,\n",
        ")\n",
        "\n",
        "val_datagen = ImageDataGenerator(\n",
        "    rescale= 1./255\n",
        ")\n",
        "\n",
        "test_datagen = ImageDataGenerator(\n",
        "    rescale= 1./255\n",
        ")"
      ],
      "metadata": {
        "id": "DvookUwyHLRf"
      },
      "execution_count": null,
      "outputs": []
    },
    {
      "cell_type": "code",
      "source": [
        "train_generator = train_datagen.flow_from_directory(\n",
        "    train_df,\n",
        "    target_size = (image_height, image_width),\n",
        "    batch_size = batch_size,\n",
        "    class_mode = \"categorical\"\n",
        ")\n",
        "test_generator = test_datagen.flow_from_directory(\n",
        "    test_df,\n",
        "    target_size = (image_height, image_width),\n",
        "    batch_size = batch_size,\n",
        "    class_mode = \"categorical\"\n",
        ")\n",
        "val_generator = val_datagen.flow_from_directory(\n",
        "    val_df,\n",
        "    target_size = (image_height, image_width),\n",
        "    batch_size = batch_size,\n",
        "    class_mode = \"categorical\"\n",
        ")"
      ],
      "metadata": {
        "colab": {
          "base_uri": "https://localhost:8080/"
        },
        "id": "PxdrYCrLHRHR",
        "outputId": "a239d9bd-7ccf-4b34-f83f-2fdf4db959d0"
      },
      "execution_count": null,
      "outputs": [
        {
          "output_type": "stream",
          "name": "stdout",
          "text": [
            "Found 167 images belonging to 2 classes.\n",
            "Found 40 images belonging to 2 classes.\n",
            "Found 40 images belonging to 2 classes.\n"
          ]
        }
      ]
    },
    {
      "cell_type": "code",
      "source": [
        "model_df.compile(loss = 'categorical_crossentropy',\n",
        "              optimizer= tf.keras.optimizers.Adam(learning_rate=0.00001),\n",
        "              metrics= [\"accuracy\"]\n",
        "             )"
      ],
      "metadata": {
        "id": "IRqsyfJ6Qs16"
      },
      "execution_count": null,
      "outputs": []
    },
    {
      "cell_type": "code",
      "source": [
        "from tensorflow.keras.callbacks import ReduceLROnPlateau, EarlyStopping, ModelCheckpoint\n",
        "earlystopping = EarlyStopping(monitor='val_loss',\n",
        "                              mode='min',\n",
        "                              verbose=1,\n",
        "                              patience=5\n",
        "                             )\n",
        "checkpointer = ModelCheckpoint(filepath=\"model.h5\",\n",
        "                               verbose=1,\n",
        "                               save_best_only=True\n",
        "                              )\n",
        "reduce_lr = ReduceLROnPlateau(monitor='val_loss',\n",
        "                              mode='min',\n",
        "                              verbose=1,\n",
        "                              patience=2,\n",
        "                              min_lr=0.00001,\n",
        "                              factor=0.2\n",
        "                             )\n",
        "callbacks = [checkpointer, earlystopping, reduce_lr]"
      ],
      "metadata": {
        "id": "9XHFjtSZVCtL"
      },
      "execution_count": null,
      "outputs": []
    },
    {
      "cell_type": "code",
      "source": [
        "history_df = model_df.fit(\n",
        "    train_generator,\n",
        "    steps_per_epoch=train_generator.samples // batch_size,\n",
        "    epochs = 30,\n",
        "    callbacks = callbacks,\n",
        "    validation_data=val_generator,\n",
        "    validation_steps=val_generator.samples // batch_size\n",
        ")"
      ],
      "metadata": {
        "colab": {
          "base_uri": "https://localhost:8080/"
        },
        "id": "Fa4hxuRhQyuz",
        "outputId": "a76ed641-81e8-4c19-bc15-e2d5f87222bc"
      },
      "execution_count": null,
      "outputs": [
        {
          "output_type": "stream",
          "name": "stdout",
          "text": [
            "Epoch 1/30\n",
            "4/4 [==============================] - ETA: 0s - loss: 0.5728 - accuracy: 0.7252\n",
            "Epoch 1: val_loss improved from inf to 0.60089, saving model to model.h5\n"
          ]
        },
        {
          "output_type": "stream",
          "name": "stderr",
          "text": [
            "/usr/local/lib/python3.10/dist-packages/keras/src/engine/training.py:3079: UserWarning: You are saving your model as an HDF5 file via `model.save()`. This file format is considered legacy. We recommend using instead the native Keras format, e.g. `model.save('my_model.keras')`.\n",
            "  saving_api.save_model(\n"
          ]
        },
        {
          "output_type": "stream",
          "name": "stdout",
          "text": [
            "\b\b\b\b\b\b\b\b\b\b\b\b\b\b\b\b\b\b\b\b\b\b\b\b\b\b\b\b\b\b\b\b\b\b\b\b\b\b\b\b\b\b\b\b\b\b\b\b\b\b\b\b\b\b\b\b\b\b\b\b\b\b\b\b\b\b\b\b\b\b\b\b\b\b\b\b\b\b\b\b\r4/4 [==============================] - 10s 3s/step - loss: 0.5728 - accuracy: 0.7252 - val_loss: 0.6009 - val_accuracy: 0.6667 - lr: 1.0000e-05\n",
            "Epoch 2/30\n",
            "4/4 [==============================] - ETA: 0s - loss: 0.6129 - accuracy: 0.6870\n",
            "Epoch 2: val_loss did not improve from 0.60089\n",
            "4/4 [==============================] - 3s 986ms/step - loss: 0.6129 - accuracy: 0.6870 - val_loss: 0.6120 - val_accuracy: 0.6944 - lr: 1.0000e-05\n",
            "Epoch 3/30\n",
            "4/4 [==============================] - ETA: 0s - loss: 0.5691 - accuracy: 0.6794\n",
            "Epoch 3: val_loss did not improve from 0.60089\n",
            "4/4 [==============================] - 3s 921ms/step - loss: 0.5691 - accuracy: 0.6794 - val_loss: 0.6113 - val_accuracy: 0.5833 - lr: 1.0000e-05\n",
            "Epoch 4/30\n",
            "4/4 [==============================] - ETA: 0s - loss: 0.5567 - accuracy: 0.7361\n",
            "Epoch 4: val_loss improved from 0.60089 to 0.58826, saving model to model.h5\n",
            "4/4 [==============================] - 7s 2s/step - loss: 0.5567 - accuracy: 0.7361 - val_loss: 0.5883 - val_accuracy: 0.6944 - lr: 1.0000e-05\n",
            "Epoch 5/30\n",
            "4/4 [==============================] - ETA: 0s - loss: 0.5601 - accuracy: 0.6947\n",
            "Epoch 5: val_loss improved from 0.58826 to 0.57371, saving model to model.h5\n",
            "4/4 [==============================] - 6s 2s/step - loss: 0.5601 - accuracy: 0.6947 - val_loss: 0.5737 - val_accuracy: 0.7500 - lr: 1.0000e-05\n",
            "Epoch 6/30\n",
            "4/4 [==============================] - ETA: 0s - loss: 0.5295 - accuracy: 0.7710\n",
            "Epoch 6: val_loss did not improve from 0.57371\n",
            "4/4 [==============================] - 3s 782ms/step - loss: 0.5295 - accuracy: 0.7710 - val_loss: 0.6042 - val_accuracy: 0.6389 - lr: 1.0000e-05\n",
            "Epoch 7/30\n",
            "4/4 [==============================] - ETA: 0s - loss: 0.5148 - accuracy: 0.7986\n",
            "Epoch 7: val_loss did not improve from 0.57371\n",
            "4/4 [==============================] - 3s 785ms/step - loss: 0.5148 - accuracy: 0.7986 - val_loss: 0.5858 - val_accuracy: 0.7500 - lr: 1.0000e-05\n",
            "Epoch 8/30\n",
            "4/4 [==============================] - ETA: 0s - loss: 0.5011 - accuracy: 0.8125\n",
            "Epoch 8: val_loss improved from 0.57371 to 0.55338, saving model to model.h5\n",
            "4/4 [==============================] - 5s 2s/step - loss: 0.5011 - accuracy: 0.8125 - val_loss: 0.5534 - val_accuracy: 0.7778 - lr: 1.0000e-05\n",
            "Epoch 9/30\n",
            "4/4 [==============================] - ETA: 0s - loss: 0.5075 - accuracy: 0.8321\n",
            "Epoch 9: val_loss improved from 0.55338 to 0.53978, saving model to model.h5\n",
            "4/4 [==============================] - 5s 2s/step - loss: 0.5075 - accuracy: 0.8321 - val_loss: 0.5398 - val_accuracy: 0.8056 - lr: 1.0000e-05\n",
            "Epoch 10/30\n",
            "4/4 [==============================] - ETA: 0s - loss: 0.4709 - accuracy: 0.8168\n",
            "Epoch 10: val_loss did not improve from 0.53978\n",
            "4/4 [==============================] - 3s 788ms/step - loss: 0.4709 - accuracy: 0.8168 - val_loss: 0.5404 - val_accuracy: 0.6389 - lr: 1.0000e-05\n",
            "Epoch 11/30\n",
            "4/4 [==============================] - ETA: 0s - loss: 0.4723 - accuracy: 0.8168\n",
            "Epoch 11: val_loss improved from 0.53978 to 0.50386, saving model to model.h5\n",
            "4/4 [==============================] - 10s 3s/step - loss: 0.4723 - accuracy: 0.8168 - val_loss: 0.5039 - val_accuracy: 0.7222 - lr: 1.0000e-05\n",
            "Epoch 12/30\n",
            "4/4 [==============================] - ETA: 0s - loss: 0.4702 - accuracy: 0.7986\n",
            "Epoch 12: val_loss did not improve from 0.50386\n",
            "4/4 [==============================] - 3s 803ms/step - loss: 0.4702 - accuracy: 0.7986 - val_loss: 0.5694 - val_accuracy: 0.6944 - lr: 1.0000e-05\n",
            "Epoch 13/30\n",
            "4/4 [==============================] - ETA: 0s - loss: 0.4458 - accuracy: 0.8244\n",
            "Epoch 13: val_loss did not improve from 0.50386\n",
            "4/4 [==============================] - 3s 943ms/step - loss: 0.4458 - accuracy: 0.8244 - val_loss: 0.5230 - val_accuracy: 0.7500 - lr: 1.0000e-05\n",
            "Epoch 14/30\n",
            "4/4 [==============================] - ETA: 0s - loss: 0.4297 - accuracy: 0.8550\n",
            "Epoch 14: val_loss did not improve from 0.50386\n",
            "4/4 [==============================] - 3s 897ms/step - loss: 0.4297 - accuracy: 0.8550 - val_loss: 0.5327 - val_accuracy: 0.7778 - lr: 1.0000e-05\n",
            "Epoch 15/30\n",
            "4/4 [==============================] - ETA: 0s - loss: 0.4120 - accuracy: 0.8626\n",
            "Epoch 15: val_loss did not improve from 0.50386\n",
            "4/4 [==============================] - 3s 782ms/step - loss: 0.4120 - accuracy: 0.8626 - val_loss: 0.5336 - val_accuracy: 0.8333 - lr: 1.0000e-05\n",
            "Epoch 16/30\n",
            "4/4 [==============================] - ETA: 0s - loss: 0.4102 - accuracy: 0.8626\n",
            "Epoch 16: val_loss did not improve from 0.50386\n",
            "4/4 [==============================] - 4s 940ms/step - loss: 0.4102 - accuracy: 0.8626 - val_loss: 0.5250 - val_accuracy: 0.7222 - lr: 1.0000e-05\n",
            "Epoch 16: early stopping\n"
          ]
        }
      ]
    },
    {
      "cell_type": "code",
      "source": [
        "plt.plot(history_df.history['val_loss'])\n",
        "plt.plot(history_df.history['loss'])\n",
        "plt.title('Model Loss')\n",
        "plt.ylabel('Loss')\n",
        "plt.xlabel('Epoch')\n",
        "plt.legend(['Validation Loss', 'Training Loss'], loc='upper right')\n",
        "plt.show()"
      ],
      "metadata": {
        "colab": {
          "base_uri": "https://localhost:8080/",
          "height": 472
        },
        "id": "cBBuRuU4TVyp",
        "outputId": "1c52ce3a-4d8d-4237-cf26-43fcc1f70afc"
      },
      "execution_count": null,
      "outputs": [
        {
          "output_type": "display_data",
          "data": {
            "text/plain": [
              "<Figure size 640x480 with 1 Axes>"
            ],
            "image/png": "[encoded data removed]"
          },
          "metadata": {}
        }
      ]
    },
    {
      "cell_type": "code",
      "source": [
        "base_loss,base_acc=model_df.evaluate(test_generator)\n",
        "print(\"Accuracy of CNN Model: \",base_acc)\n",
        "print(\"Loss of CNN Model: \",base_loss)"
      ],
      "metadata": {
        "colab": {
          "base_uri": "https://localhost:8080/"
        },
        "id": "p2vmjJRfV4ke",
        "outputId": "087b43e6-7053-4308-e037-ee803591df66"
      },
      "execution_count": null,
      "outputs": [
        {
          "output_type": "stream",
          "name": "stdout",
          "text": [
            "2/2 [==============================] - 2s 1s/step - loss: 0.5582 - accuracy: 0.7000\n",
            "Accuracy of CNN Model:  0.699999988079071\n",
            "Loss of CNN Model:  0.5582008957862854\n"
          ]
        }
      ]
    },
    {
      "cell_type": "markdown",
      "source": [
        "### c. Modify the architecture in number 2b by using dropout, batch normalization, and other methods. Give reasons why your architecture modification is better than the benchmark."
      ],
      "metadata": {
        "id": "rCtNg11oOClf"
      }
    },
    {
      "cell_type": "code",
      "source": [
        "model2 = keras.Sequential()\n",
        "model2.add(layers.Conv2D(filters=96, kernel_size=(11, 11),\n",
        "                        strides=(4, 4), activation=\"relu\",\n",
        "                        input_shape=(224, 224, 3)))\n",
        "model2.add(layers.BatchNormalization())\n",
        "model2.add(layers.MaxPool2D(pool_size=(3, 3), strides= (2, 2)))\n",
        "model2.add(layers.Conv2D(filters=256, kernel_size=(5, 5),\n",
        "                        strides=(1, 1), activation=\"relu\",\n",
        "                        padding=\"valid\"))\n",
        "model2.add(layers.BatchNormalization())\n",
        "model2.add(layers.MaxPool2D(pool_size=(3, 3), strides=(2, 2)))\n",
        "model2.add(layers.Conv2D(filters=384, kernel_size=(3, 3),\n",
        "                        strides=(1, 1), activation=\"relu\",\n",
        "                        padding=\"same\"))\n",
        "model2.add(layers.BatchNormalization())\n",
        "model2.add(layers.Conv2D(filters=384, kernel_size=(3, 3),\n",
        "                        strides=(1, 1), activation=\"relu\",\n",
        "                        padding=\"same\"))\n",
        "model2.add(layers.BatchNormalization())\n",
        "model2.add(layers.Conv2D(filters=256, kernel_size=(3, 3),\n",
        "                        strides=(1, 1), activation=\"relu\",\n",
        "                        padding=\"same\"))\n",
        "model2.add(layers.BatchNormalization())\n",
        "model2.add(layers.MaxPool2D(pool_size=(3, 3), strides=(2, 2)))\n",
        "model2.add(layers.Flatten())\n",
        "model2.add(layers.Dense(4096, activation=\"relu\"))\n",
        "model2.add(layers.Dropout(0.5))\n",
        "model2.add(layers.Dense(2, activation=\"softmax\"))\n",
        "model2.summary()"
      ],
      "metadata": {
        "colab": {
          "base_uri": "https://localhost:8080/"
        },
        "id": "E89hEGi_5HqA",
        "outputId": "a84b07c3-d424-4b9b-f64a-62bedd491830"
      },
      "execution_count": null,
      "outputs": [
        {
          "output_type": "stream",
          "name": "stdout",
          "text": [
            "Model: \"sequential_16\"\n",
            "_________________________________________________________________\n",
            " Layer (type)                Output Shape              Param #   \n",
            "=================================================================\n",
            " conv2d_80 (Conv2D)          (None, 54, 54, 96)        34944     \n",
            "                                                                 \n",
            " batch_normalization_68 (Ba  (None, 54, 54, 96)        384       \n",
            " tchNormalization)                                               \n",
            "                                                                 \n",
            " max_pooling2d_61 (MaxPooli  (None, 26, 26, 96)        0         \n",
            " ng2D)                                                           \n",
            "                                                                 \n",
            " conv2d_81 (Conv2D)          (None, 22, 22, 256)       614656    \n",
            "                                                                 \n",
            " batch_normalization_69 (Ba  (None, 22, 22, 256)       1024      \n",
            " tchNormalization)                                               \n",
            "                                                                 \n",
            " max_pooling2d_62 (MaxPooli  (None, 10, 10, 256)       0         \n",
            " ng2D)                                                           \n",
            "                                                                 \n",
            " conv2d_82 (Conv2D)          (None, 10, 10, 384)       885120    \n",
            "                                                                 \n",
            " batch_normalization_70 (Ba  (None, 10, 10, 384)       1536      \n",
            " tchNormalization)                                               \n",
            "                                                                 \n",
            " conv2d_83 (Conv2D)          (None, 10, 10, 384)       1327488   \n",
            "                                                                 \n",
            " batch_normalization_71 (Ba  (None, 10, 10, 384)       1536      \n",
            " tchNormalization)                                               \n",
            "                                                                 \n",
            " conv2d_84 (Conv2D)          (None, 10, 10, 256)       884992    \n",
            "                                                                 \n",
            " batch_normalization_72 (Ba  (None, 10, 10, 256)       1024      \n",
            " tchNormalization)                                               \n",
            "                                                                 \n",
            " max_pooling2d_63 (MaxPooli  (None, 4, 4, 256)         0         \n",
            " ng2D)                                                           \n",
            "                                                                 \n",
            " flatten_16 (Flatten)        (None, 4096)              0         \n",
            "                                                                 \n",
            " dense_37 (Dense)            (None, 4096)              16781312  \n",
            "                                                                 \n",
            " dropout_63 (Dropout)        (None, 4096)              0         \n",
            "                                                                 \n",
            " dense_38 (Dense)            (None, 2)                 8194      \n",
            "                                                                 \n",
            "=================================================================\n",
            "Total params: 20542210 (78.36 MB)\n",
            "Trainable params: 20539458 (78.35 MB)\n",
            "Non-trainable params: 2752 (10.75 KB)\n",
            "_________________________________________________________________\n"
          ]
        }
      ]
    },
    {
      "cell_type": "code",
      "source": [
        "train_generator = train_datagen.flow_from_directory(\n",
        "    train_df,\n",
        "    target_size = (image_height, image_width),\n",
        "    batch_size = batch_size,\n",
        "    class_mode = \"categorical\"\n",
        ")\n",
        "test_generator = test_datagen.flow_from_directory(\n",
        "    test_df,\n",
        "    target_size = (image_height, image_width),\n",
        "    batch_size = batch_size,\n",
        "    class_mode = \"categorical\"\n",
        ")\n",
        "val_generator = val_datagen.flow_from_directory(\n",
        "    val_df,\n",
        "    target_size = (image_height, image_width),\n",
        "    batch_size = batch_size,\n",
        "    class_mode = \"categorical\"\n",
        ")"
      ],
      "metadata": {
        "colab": {
          "base_uri": "https://localhost:8080/"
        },
        "id": "q3BTkCol6mk-",
        "outputId": "69f6ffd6-66a5-42fd-bf3c-6760c3192496"
      },
      "execution_count": null,
      "outputs": [
        {
          "output_type": "stream",
          "name": "stdout",
          "text": [
            "Found 167 images belonging to 2 classes.\n",
            "Found 40 images belonging to 2 classes.\n",
            "Found 40 images belonging to 2 classes.\n"
          ]
        }
      ]
    },
    {
      "cell_type": "code",
      "source": [
        "model2.compile(loss='categorical_crossentropy',\n",
        "              optimizer=tf.optimizers.SGD(learning_rate=0.0001),\n",
        "              metrics=['accuracy'])"
      ],
      "metadata": {
        "id": "h-M-KNTaBbTJ"
      },
      "execution_count": null,
      "outputs": []
    },
    {
      "cell_type": "code",
      "source": [
        "from tensorflow.keras.callbacks import ReduceLROnPlateau, EarlyStopping, ModelCheckpoint\n",
        "earlystopping = EarlyStopping(monitor='val_loss',\n",
        "                              mode='min',\n",
        "                              verbose=1,\n",
        "                              patience=5\n",
        "                             )\n",
        "checkpointer = ModelCheckpoint(filepath=\"model.h5\",\n",
        "                               verbose=1,\n",
        "                               save_best_only=True\n",
        "                              )\n",
        "reduce_lr = ReduceLROnPlateau(monitor='val_loss',\n",
        "                              mode='min',\n",
        "                              verbose=1,\n",
        "                              patience=2,\n",
        "                              min_lr=0.00001,\n",
        "                              factor=0.2\n",
        "                             )\n",
        "callbacks = [checkpointer, earlystopping, reduce_lr]"
      ],
      "metadata": {
        "id": "Ql0quxDP4a60"
      },
      "execution_count": null,
      "outputs": []
    },
    {
      "cell_type": "code",
      "source": [
        "history2 = model2.fit(\n",
        "    train_generator,\n",
        "    steps_per_epoch=train_generator.samples // batch_size,\n",
        "    epochs = 40,\n",
        "    callbacks = callbacks,\n",
        "    validation_data=val_generator,\n",
        "    validation_steps=val_generator.samples // batch_size\n",
        ")"
      ],
      "metadata": {
        "colab": {
          "base_uri": "https://localhost:8080/"
        },
        "id": "gpKB-aca6LWy",
        "outputId": "32535567-22bd-4af9-b05a-e1592308af8b"
      },
      "execution_count": null,
      "outputs": [
        {
          "output_type": "stream",
          "name": "stdout",
          "text": [
            "Epoch 1/40\n",
            "4/4 [==============================] - ETA: 0s - loss: 0.2589 - accuracy: 0.8779\n",
            "Epoch 1: val_loss improved from inf to 0.70382, saving model to model.h5\n",
            "4/4 [==============================] - 4s 1s/step - loss: 0.2589 - accuracy: 0.8779 - val_loss: 0.7038 - val_accuracy: 0.5278 - lr: 1.0000e-04\n",
            "Epoch 2/40\n",
            "4/4 [==============================] - ETA: 0s - loss: 0.3179 - accuracy: 0.8779\n",
            "Epoch 2: val_loss did not improve from 0.70382\n",
            "4/4 [==============================] - 3s 943ms/step - loss: 0.3179 - accuracy: 0.8779 - val_loss: 0.7259 - val_accuracy: 0.4722 - lr: 1.0000e-04\n",
            "Epoch 3/40\n",
            "4/4 [==============================] - ETA: 0s - loss: 0.3127 - accuracy: 0.8750\n",
            "Epoch 3: val_loss did not improve from 0.70382\n",
            "\n",
            "Epoch 3: ReduceLROnPlateau reducing learning rate to 1.9999999494757503e-05.\n",
            "4/4 [==============================] - 2s 704ms/step - loss: 0.3127 - accuracy: 0.8750 - val_loss: 0.7199 - val_accuracy: 0.5000 - lr: 1.0000e-04\n",
            "Epoch 4/40\n",
            "4/4 [==============================] - ETA: 0s - loss: 0.3541 - accuracy: 0.8321\n",
            "Epoch 4: val_loss did not improve from 0.70382\n",
            "4/4 [==============================] - 3s 932ms/step - loss: 0.3541 - accuracy: 0.8321 - val_loss: 0.7219 - val_accuracy: 0.5000 - lr: 2.0000e-05\n",
            "Epoch 5/40\n",
            "4/4 [==============================] - ETA: 0s - loss: 0.3759 - accuracy: 0.8889\n",
            "Epoch 5: val_loss did not improve from 0.70382\n",
            "\n",
            "Epoch 5: ReduceLROnPlateau reducing learning rate to 1e-05.\n",
            "4/4 [==============================] - 3s 813ms/step - loss: 0.3759 - accuracy: 0.8889 - val_loss: 0.7108 - val_accuracy: 0.5278 - lr: 2.0000e-05\n",
            "Epoch 6/40\n",
            "4/4 [==============================] - ETA: 0s - loss: 0.3512 - accuracy: 0.8855\n",
            "Epoch 6: val_loss did not improve from 0.70382\n",
            "4/4 [==============================] - 3s 666ms/step - loss: 0.3512 - accuracy: 0.8855 - val_loss: 0.7392 - val_accuracy: 0.4722 - lr: 1.0000e-05\n",
            "Epoch 6: early stopping\n"
          ]
        }
      ]
    },
    {
      "cell_type": "code",
      "source": [
        "import matplotlib.pyplot as plt\n",
        "plt.plot(history2.history['val_loss'])\n",
        "plt.plot(history2.history['loss'])\n",
        "plt.title('Model Loss')\n",
        "plt.ylabel('Loss')\n",
        "plt.xlabel('Epoch')\n",
        "plt.legend(['Validation Loss', 'Training Loss'], loc='upper right')\n",
        "plt.show()"
      ],
      "metadata": {
        "colab": {
          "base_uri": "https://localhost:8080/",
          "height": 472
        },
        "id": "uafd8_Ux5Vhq",
        "outputId": "9ad828c5-9b7a-46b8-db5a-40c272c92943"
      },
      "execution_count": null,
      "outputs": [
        {
          "output_type": "display_data",
          "data": {
            "text/plain": [
              "<Figure size 640x480 with 1 Axes>"
            ],
            "image/png": "[encoded data removed]"
          },
          "metadata": {}
        }
      ]
    },
    {
      "cell_type": "code",
      "source": [
        "base_loss,base_acc=model2.evaluate(test_generator)\n",
        "print(\"Accuracy of CNN Model: \",base_acc)\n",
        "print(\"Loss of CNN Model: \",base_loss)"
      ],
      "metadata": {
        "colab": {
          "base_uri": "https://localhost:8080/"
        },
        "id": "PbCjBkiq-2mS",
        "outputId": "5b8492bc-ad83-41fa-dfd5-30ee5ca24083"
      },
      "execution_count": null,
      "outputs": [
        {
          "output_type": "stream",
          "name": "stdout",
          "text": [
            "2/2 [==============================] - 0s 35ms/step - loss: 0.7085 - accuracy: 0.5250\n",
            "Accuracy of CNN Model:  0.5249999761581421\n",
            "Loss of CNN Model:  0.7084783315658569\n"
          ]
        }
      ]
    },
    {
      "cell_type": "markdown",
      "source": [
        "https://akademi-ai.medium.com/deep-learning-klasifikasi-gambar-dengan-convolutional-neural-network-menggunakan-keras-python-87bb08a47ca6\n",
        "https://medium.com/latinxinai/convolutional-neural-network-from-scratch-6b1c856e1c07"
      ],
      "metadata": {
        "id": "z8--k4a27k0I"
      }
    },
    {
      "cell_type": "code",
      "source": [
        "AveragePooling2D,\n",
        "lenet = Sequential(name=\"LeNet-5\")\n",
        "lenet.add(Conv2D(96, kernel_size=(11, 11), strides=(4, 4), activation='tanh', input_shape=(224,224,3)))\n",
        "\n",
        "lenet.add(AveragePooling2D(pool_size=(3, 3), strides=(2, 2)))\n",
        "\n",
        "lenet.add(Conv2D(256, kernel_size=(5, 5), activation='tanh', padding='same'))\n",
        "\n",
        "lenet.add(AveragePooling2D(pool_size=(3, 3), strides=(2, 2)))\n",
        "\n",
        "lenet.add(Conv2D(384, kernel_size=(3, 3), activation='tanh', padding='same'))\n",
        "\n",
        "lenet.add(Conv2D(384, kernel_size=(3, 3), activation='tanh', padding='same'))\n",
        "\n",
        "lenet.add(Conv2D(256, kernel_size=(3, 3), activation='tanh', padding='same'))\n",
        "\n",
        "lenet.add(AveragePooling2D(pool_size=(3, 3), strides=(2, 2)))\n",
        "\n",
        "lenet.add(Flatten())\n",
        "\n",
        "lenet.add(Dense(4096, activation='tanh'))\n",
        "\n",
        "lenet.add(Dense(4096, activation='tanh'))\n",
        "\n",
        "lenet.add(Dense(2, activation='softmax'))"
      ],
      "metadata": {
        "id": "A_kmUTgW8YGm"
      },
      "execution_count": null,
      "outputs": []
    },
    {
      "cell_type": "code",
      "source": [
        "lenet.compile(loss = 'categorical_crossentropy',\n",
        "              optimizer= tf.keras.optimizers.Adam(learning_rate=0.0001),\n",
        "              metrics= [\"accuracy\"]\n",
        "             )"
      ],
      "metadata": {
        "id": "LOmlp04w9-Ze"
      },
      "execution_count": null,
      "outputs": []
    },
    {
      "cell_type": "code",
      "source": [
        "from tensorflow.keras.callbacks import ReduceLROnPlateau, EarlyStopping, ModelCheckpoint\n",
        "earlystopping = EarlyStopping(monitor='val_loss',\n",
        "                              mode='min',\n",
        "                              verbose=1,\n",
        "                              patience=5\n",
        "                             )\n",
        "checkpointer = ModelCheckpoint(filepath=\"model.h5\",\n",
        "                               verbose=1,\n",
        "                               save_best_only=True\n",
        "                              )\n",
        "reduce_lr = ReduceLROnPlateau(monitor='val_loss',\n",
        "                              mode='min',\n",
        "                              verbose=1,\n",
        "                              patience=2,\n",
        "                              min_lr=0.0001,\n",
        "                              factor=0.2\n",
        "                             )\n",
        "callbacks = [checkpointer, earlystopping, reduce_lr]"
      ],
      "metadata": {
        "id": "qdjcxzZf_swJ"
      },
      "execution_count": null,
      "outputs": []
    },
    {
      "cell_type": "code",
      "source": [
        "historylenet = lenet.fit(\n",
        "    train_generator,\n",
        "    steps_per_epoch=train_generator.samples // batch_size,\n",
        "    epochs = 25,\n",
        "    callbacks = callbacks,\n",
        "    validation_data=val_generator,\n",
        "    validation_steps=val_generator.samples // batch_size\n",
        ")"
      ],
      "metadata": {
        "colab": {
          "base_uri": "https://localhost:8080/"
        },
        "id": "-QRn3eNT-MFU",
        "outputId": "f59df7e4-3d81-4c48-8e6b-16554b154427"
      },
      "execution_count": null,
      "outputs": [
        {
          "output_type": "stream",
          "name": "stdout",
          "text": [
            "Epoch 1/25\n",
            "4/4 [==============================] - ETA: 0s - loss: 0.7220 - accuracy: 0.4733\n",
            "Epoch 1: val_loss improved from 0.69481 to 0.69285, saving model to model.h5\n",
            "4/4 [==============================] - 14s 4s/step - loss: 0.7220 - accuracy: 0.4733 - val_loss: 0.6929 - val_accuracy: 0.5278 - lr: 1.0000e-04\n",
            "Epoch 2/25\n",
            "4/4 [==============================] - ETA: 0s - loss: 0.6986 - accuracy: 0.5344\n",
            "Epoch 2: val_loss did not improve from 0.69285\n",
            "4/4 [==============================] - 3s 812ms/step - loss: 0.6986 - accuracy: 0.5344 - val_loss: 0.7154 - val_accuracy: 0.4722 - lr: 1.0000e-04\n",
            "Epoch 3/25\n",
            "4/4 [==============================] - ETA: 0s - loss: 0.6934 - accuracy: 0.5267\n",
            "Epoch 3: val_loss did not improve from 0.69285\n",
            "4/4 [==============================] - 3s 1s/step - loss: 0.6934 - accuracy: 0.5267 - val_loss: 0.6998 - val_accuracy: 0.5000 - lr: 1.0000e-04\n",
            "Epoch 4/25\n",
            "4/4 [==============================] - ETA: 0s - loss: 0.7098 - accuracy: 0.4733\n",
            "Epoch 4: val_loss did not improve from 0.69285\n",
            "4/4 [==============================] - 3s 814ms/step - loss: 0.7098 - accuracy: 0.4733 - val_loss: 0.6932 - val_accuracy: 0.5000 - lr: 1.0000e-04\n",
            "Epoch 5/25\n",
            "4/4 [==============================] - ETA: 0s - loss: 0.6946 - accuracy: 0.4351\n",
            "Epoch 5: val_loss improved from 0.69285 to 0.69281, saving model to model.h5\n",
            "4/4 [==============================] - 7s 2s/step - loss: 0.6946 - accuracy: 0.4351 - val_loss: 0.6928 - val_accuracy: 0.5278 - lr: 1.0000e-04\n",
            "Epoch 6/25\n",
            "4/4 [==============================] - ETA: 0s - loss: 0.6948 - accuracy: 0.4427\n",
            "Epoch 6: val_loss improved from 0.69281 to 0.69168, saving model to model.h5\n",
            "4/4 [==============================] - 16s 5s/step - loss: 0.6948 - accuracy: 0.4427 - val_loss: 0.6917 - val_accuracy: 0.5278 - lr: 1.0000e-04\n",
            "Epoch 7/25\n",
            "4/4 [==============================] - ETA: 0s - loss: 0.6933 - accuracy: 0.5208\n",
            "Epoch 7: val_loss improved from 0.69168 to 0.68831, saving model to model.h5\n",
            "4/4 [==============================] - 16s 5s/step - loss: 0.6933 - accuracy: 0.5208 - val_loss: 0.6883 - val_accuracy: 0.5556 - lr: 1.0000e-04\n",
            "Epoch 8/25\n",
            "4/4 [==============================] - ETA: 0s - loss: 0.6997 - accuracy: 0.5420\n",
            "Epoch 8: val_loss did not improve from 0.68831\n",
            "4/4 [==============================] - 3s 721ms/step - loss: 0.6997 - accuracy: 0.5420 - val_loss: 0.6977 - val_accuracy: 0.5000 - lr: 1.0000e-04\n",
            "Epoch 9/25\n",
            "4/4 [==============================] - ETA: 0s - loss: 0.7157 - accuracy: 0.4375\n",
            "Epoch 9: val_loss did not improve from 0.68831\n",
            "4/4 [==============================] - 3s 833ms/step - loss: 0.7157 - accuracy: 0.4375 - val_loss: 0.7172 - val_accuracy: 0.5000 - lr: 1.0000e-04\n",
            "Epoch 10/25\n",
            "4/4 [==============================] - ETA: 0s - loss: 0.7065 - accuracy: 0.4504\n",
            "Epoch 10: val_loss did not improve from 0.68831\n",
            "4/4 [==============================] - 3s 935ms/step - loss: 0.7065 - accuracy: 0.4504 - val_loss: 0.7001 - val_accuracy: 0.4722 - lr: 1.0000e-04\n",
            "Epoch 11/25\n",
            "4/4 [==============================] - ETA: 0s - loss: 0.6982 - accuracy: 0.4885\n",
            "Epoch 11: val_loss did not improve from 0.68831\n",
            "4/4 [==============================] - 3s 751ms/step - loss: 0.6982 - accuracy: 0.4885 - val_loss: 0.6918 - val_accuracy: 0.5278 - lr: 1.0000e-04\n",
            "Epoch 12/25\n",
            "4/4 [==============================] - ETA: 0s - loss: 0.7024 - accuracy: 0.4427\n",
            "Epoch 12: val_loss did not improve from 0.68831\n",
            "4/4 [==============================] - 4s 1s/step - loss: 0.7024 - accuracy: 0.4427 - val_loss: 0.7040 - val_accuracy: 0.4722 - lr: 1.0000e-04\n",
            "Epoch 12: early stopping\n"
          ]
        }
      ]
    },
    {
      "cell_type": "code",
      "source": [
        "import matplotlib.pyplot as plt\n",
        "plt.plot(historylenet.history['val_loss'])\n",
        "plt.plot(historylenet.history['loss'])\n",
        "plt.title('Model Loss')\n",
        "plt.ylabel('Loss')\n",
        "plt.xlabel('Epoch')\n",
        "plt.legend(['Validation Loss', 'Training Loss'], loc='upper right')\n",
        "plt.show()"
      ],
      "metadata": {
        "colab": {
          "base_uri": "https://localhost:8080/",
          "height": 472
        },
        "id": "f5E5hu03-jfB",
        "outputId": "c5a53cc8-3a5a-460b-a6c8-8761a9111e0d"
      },
      "execution_count": null,
      "outputs": [
        {
          "output_type": "display_data",
          "data": {
            "text/plain": [
              "<Figure size 640x480 with 1 Axes>"
            ],
            "image/png": "[encoded data removed]"
          },
          "metadata": {}
        }
      ]
    },
    {
      "cell_type": "code",
      "source": [
        "base_loss,base_acc=lenet.evaluate(test_generator)\n",
        "print(\"Accuracy of CNN Model: \",base_acc)\n",
        "print(\"Loss of CNN Model: \",base_loss)"
      ],
      "metadata": {
        "colab": {
          "base_uri": "https://localhost:8080/"
        },
        "id": "SyEaEkQZ-8uV",
        "outputId": "acd3e083-5da0-4c9e-8bef-f27ac8535bc8"
      },
      "execution_count": null,
      "outputs": [
        {
          "output_type": "stream",
          "name": "stdout",
          "text": [
            "2/2 [==============================] - 0s 32ms/step - loss: 0.6932 - accuracy: 0.5250\n",
            "Accuracy of CNN Model:  0.5249999761581421\n",
            "Loss of CNN Model:  0.6932251453399658\n"
          ]
        }
      ]
    },
    {
      "cell_type": "markdown",
      "source": [
        "https://medium.com/@shaleenag/lenet-5-cnn-architecture-468ed7b895cd"
      ],
      "metadata": {
        "id": "zL7w-9FrKvpE"
      }
    },
    {
      "cell_type": "code",
      "source": [
        "vgg = Sequential(name=\"VGG16\")\n",
        "\n",
        "vgg.add(Conv2D(64, kernel_size=(11, 11), strides=(4, 4), activation='relu', input_shape=(224,224,3)))\n",
        "\n",
        "vgg.add(MaxPool2D(pool_size=(3, 3), strides=(2, 2)))\n",
        "\n",
        "vgg.add(Conv2D(256, kernel_size=(5, 5), activation='relu', padding='valid'))\n",
        "\n",
        "vgg.add(MaxPool2D(pool_size=(3, 3), strides=(2, 2)))\n",
        "\n",
        "vgg.add(Conv2D(384, kernel_size=(3, 3), activation='relu', padding='same'))\n",
        "\n",
        "vgg.add(Conv2D(384, kernel_size=(3, 3), activation='relu', padding='same'))\n",
        "\n",
        "vgg.add(Conv2D(256, kernel_size=(3, 3), activation='relu', padding='same'))\n",
        "\n",
        "vgg.add(MaxPool2D(pool_size=(3, 3), strides=(2, 2)))\n",
        "\n",
        "vgg.add(Flatten())\n",
        "\n",
        "vgg.add(Dense(4096, activation='relu'))\n",
        "\n",
        "vgg.add(Dense(4096, activation='relu'))\n",
        "\n",
        "vgg.add(Dense(2, activation='softmax'))"
      ],
      "metadata": {
        "id": "fcvvdz3NKuiY"
      },
      "execution_count": null,
      "outputs": []
    },
    {
      "cell_type": "code",
      "source": [
        "vgg.compile(loss = 'categorical_crossentropy',\n",
        "              optimizer= tf.keras.optimizers.Adam(learning_rate=0.0001),\n",
        "              metrics= [\"accuracy\"]\n",
        "             )"
      ],
      "metadata": {
        "id": "3yq5HiwfL_Wt"
      },
      "execution_count": null,
      "outputs": []
    },
    {
      "cell_type": "code",
      "source": [
        "historyvgg = vgg.fit(\n",
        "    train_generator,\n",
        "    steps_per_epoch=train_generator.samples // batch_size,\n",
        "    epochs = 15,\n",
        "    validation_data=val_generator,\n",
        "    validation_steps=val_generator.samples // batch_size\n",
        ")"
      ],
      "metadata": {
        "colab": {
          "base_uri": "https://localhost:8080/"
        },
        "id": "9tW1p98lRzxu",
        "outputId": "826bd681-b928-4e1c-ebce-d98f17c19be5"
      },
      "execution_count": null,
      "outputs": [
        {
          "output_type": "stream",
          "name": "stdout",
          "text": [
            "Epoch 1/15\n",
            "4/4 [==============================] - 19s 4s/step - loss: 0.3699 - accuracy: 0.8397 - val_loss: 0.4540 - val_accuracy: 0.8333\n",
            "Epoch 2/15\n",
            "4/4 [==============================] - 18s 4s/step - loss: 0.3052 - accuracy: 0.8855 - val_loss: 0.3796 - val_accuracy: 0.8333\n",
            "Epoch 3/15\n",
            "4/4 [==============================] - 18s 5s/step - loss: 0.2069 - accuracy: 0.9306 - val_loss: 0.4776 - val_accuracy: 0.8333\n",
            "Epoch 4/15\n",
            "4/4 [==============================] - 20s 5s/step - loss: 0.1991 - accuracy: 0.9389 - val_loss: 0.4602 - val_accuracy: 0.8056\n",
            "Epoch 5/15\n",
            "4/4 [==============================] - 20s 4s/step - loss: 0.0962 - accuracy: 0.9722 - val_loss: 0.5206 - val_accuracy: 0.8611\n",
            "Epoch 6/15\n",
            "4/4 [==============================] - 17s 5s/step - loss: 0.0548 - accuracy: 1.0000 - val_loss: 0.2727 - val_accuracy: 0.8611\n",
            "Epoch 7/15\n",
            "4/4 [==============================] - 17s 4s/step - loss: 0.0505 - accuracy: 0.9847 - val_loss: 0.8210 - val_accuracy: 0.8333\n",
            "Epoch 8/15\n",
            "4/4 [==============================] - 18s 5s/step - loss: 0.1198 - accuracy: 0.9618 - val_loss: 0.8760 - val_accuracy: 0.7500\n",
            "Epoch 9/15\n",
            "4/4 [==============================] - 18s 5s/step - loss: 0.1012 - accuracy: 0.9542 - val_loss: 0.6713 - val_accuracy: 0.7778\n",
            "Epoch 10/15\n",
            "4/4 [==============================] - 18s 4s/step - loss: 0.1137 - accuracy: 0.9389 - val_loss: 0.6837 - val_accuracy: 0.8056\n",
            "Epoch 11/15\n",
            "4/4 [==============================] - 19s 5s/step - loss: 0.0740 - accuracy: 0.9847 - val_loss: 0.4183 - val_accuracy: 0.8611\n",
            "Epoch 12/15\n",
            "4/4 [==============================] - 18s 5s/step - loss: 0.0932 - accuracy: 0.9542 - val_loss: 0.4411 - val_accuracy: 0.8333\n",
            "Epoch 13/15\n",
            "4/4 [==============================] - 17s 4s/step - loss: 0.0547 - accuracy: 0.9847 - val_loss: 0.4799 - val_accuracy: 0.8333\n",
            "Epoch 14/15\n",
            "4/4 [==============================] - 18s 5s/step - loss: 0.0449 - accuracy: 0.9924 - val_loss: 0.6183 - val_accuracy: 0.8056\n",
            "Epoch 15/15\n",
            "4/4 [==============================] - 18s 4s/step - loss: 0.0141 - accuracy: 1.0000 - val_loss: 0.7077 - val_accuracy: 0.8056\n"
          ]
        }
      ]
    },
    {
      "cell_type": "code",
      "source": [
        "import matplotlib.pyplot as plt\n",
        "plt.plot(historyvgg.history['val_loss'])\n",
        "plt.plot(historyvgg.history['loss'])\n",
        "plt.title('Model Loss')\n",
        "plt.ylabel('Loss')\n",
        "plt.xlabel('Epoch')\n",
        "plt.legend(['Validation Loss', 'Training Loss'], loc='upper right')\n",
        "plt.show()"
      ],
      "metadata": {
        "colab": {
          "base_uri": "https://localhost:8080/",
          "height": 472
        },
        "id": "ZHl99d3SSICy",
        "outputId": "4c377cd1-4bdd-47aa-c618-98165940594b"
      },
      "execution_count": null,
      "outputs": [
        {
          "output_type": "display_data",
          "data": {
            "text/plain": [
              "<Figure size 640x480 with 1 Axes>"
            ],
            "image/png": "[encoded data removed]"
          },
          "metadata": {}
        }
      ]
    },
    {
      "cell_type": "code",
      "source": [
        "base_loss,base_acc=vgg.evaluate(test_generator)\n",
        "print(\"Accuracy of CNN Model: \",base_acc)\n",
        "print(\"Loss of CNN Model: \",base_loss)"
      ],
      "metadata": {
        "colab": {
          "base_uri": "https://localhost:8080/"
        },
        "id": "PXIv-in0SXG8",
        "outputId": "4f438fd3-21e6-42cc-cde8-1e8203706da1"
      },
      "execution_count": null,
      "outputs": [
        {
          "output_type": "stream",
          "name": "stdout",
          "text": [
            "2/2 [==============================] - 1s 116ms/step - loss: 0.6532 - accuracy: 0.8000\n",
            "Accuracy of CNN Model:  0.800000011920929\n",
            "Loss of CNN Model:  0.653217613697052\n"
          ]
        }
      ]
    },
    {
      "cell_type": "markdown",
      "source": [
        "https://medium.com/@AnasBrital98/vgg-16-and-vgg-19-cnn-architectures-d876f639cab7"
      ],
      "metadata": {
        "id": "BWNZ3uocXDUX"
      }
    },
    {
      "cell_type": "markdown",
      "source": [
        "### d. Evaluate the performance of architecture number 2c and explain your results. Use the given testing set to predict the ground truth value with the predicted result."
      ],
      "metadata": {
        "id": "2ik1Z6-bbgCT"
      }
    },
    {
      "cell_type": "code",
      "source": [
        "base_loss,base_acc=vgg.evaluate(test_generator)\n",
        "print(\"Accuracy of CNN Model: \",base_acc)\n",
        "print(\"Loss of CNN Model: \",base_loss)"
      ],
      "metadata": {
        "colab": {
          "base_uri": "https://localhost:8080/"
        },
        "id": "kMbEh4BZCD5O",
        "outputId": "0dfb9e62-7c50-4d27-ff30-b520bfd458b3"
      },
      "execution_count": null,
      "outputs": [
        {
          "output_type": "stream",
          "name": "stdout",
          "text": [
            "2/2 [==============================] - 2s 116ms/step - loss: 0.6532 - accuracy: 0.8000\n",
            "Accuracy of CNN Model:  0.800000011920929\n",
            "Loss of CNN Model:  0.653217613697052\n"
          ]
        }
      ]
    },
    {
      "cell_type": "markdown",
      "source": [
        "Berdasarkan hasil tersebut didapatkan bahwa nilai accuracy dengan menngunakan vgg adalah 0.8 yang artinya sudah lebih bagus daripada model sebelumnya"
      ],
      "metadata": {
        "id": "xlZcneyLW_N6"
      }
    }
  ]
}